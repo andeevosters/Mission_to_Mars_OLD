{
 "cells": [
  {
   "cell_type": "code",
   "execution_count": null,
   "metadata": {},
   "outputs": [],
   "source": [
    "# In this activity, you will scrape the Programmer-Humor.html file provided\n",
    "\n",
    "\n",
    "# Use Beautiful Soup to scrape only threads that have two or more comments, then print the thread's title, number of comments, and the URL to the thread.\n",
    "\n",
    "# Bonus\n",
    "# If you finish early, try to display each thread's top comment in your output!\n"
   ]
  }
 ],
 "metadata": {
  "kernelspec": {
   "display_name": "PythonData",
   "language": "python",
   "name": "pythondata"
  },
  "language_info": {
   "codemirror_mode": {
    "name": "ipython",
    "version": 3
   },
   "file_extension": ".py",
   "mimetype": "text/x-python",
   "name": "python",
   "nbconvert_exporter": "python",
   "pygments_lexer": "ipython3",
   "version": "3.8.5"
  }
 },
 "nbformat": 4,
 "nbformat_minor": 4
}
